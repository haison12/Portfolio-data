{
 "cells": [
  {
   "cell_type": "code",
   "execution_count": 1,
   "id": "2ec64cee",
   "metadata": {},
   "outputs": [],
   "source": [
    "#import libraries.\n",
    "import numpy as np #algebra lineal\n",
    "import pandas as pd #uso de dataframe\n",
    "import seaborn as sns #herramienta de visualizacion "
   ]
  },
  {
   "cell_type": "code",
   "execution_count": 2,
   "id": "d2851ddc",
   "metadata": {},
   "outputs": [
    {
     "name": "stderr",
     "output_type": "stream",
     "text": [
      "C:\\Users\\Haison\\AppData\\Local\\Temp\\ipykernel_6888\\724215773.py:2: DtypeWarning: Columns (76) have mixed types. Specify dtype option on import or set low_memory=False.\n",
      "  data = pd.read_csv(\"Datasets/fifa21 raw data v2.csv\")\n"
     ]
    },
    {
     "data": {
      "text/html": [
       "<div>\n",
       "<style scoped>\n",
       "    .dataframe tbody tr th:only-of-type {\n",
       "        vertical-align: middle;\n",
       "    }\n",
       "\n",
       "    .dataframe tbody tr th {\n",
       "        vertical-align: top;\n",
       "    }\n",
       "\n",
       "    .dataframe thead th {\n",
       "        text-align: right;\n",
       "    }\n",
       "</style>\n",
       "<table border=\"1\" class=\"dataframe\">\n",
       "  <thead>\n",
       "    <tr style=\"text-align: right;\">\n",
       "      <th></th>\n",
       "      <th>ID</th>\n",
       "      <th>Name</th>\n",
       "      <th>LongName</th>\n",
       "      <th>photoUrl</th>\n",
       "      <th>playerUrl</th>\n",
       "      <th>Nationality</th>\n",
       "      <th>Age</th>\n",
       "      <th>↓OVA</th>\n",
       "      <th>POT</th>\n",
       "      <th>Club</th>\n",
       "      <th>...</th>\n",
       "      <th>A/W</th>\n",
       "      <th>D/W</th>\n",
       "      <th>IR</th>\n",
       "      <th>PAC</th>\n",
       "      <th>SHO</th>\n",
       "      <th>PAS</th>\n",
       "      <th>DRI</th>\n",
       "      <th>DEF</th>\n",
       "      <th>PHY</th>\n",
       "      <th>Hits</th>\n",
       "    </tr>\n",
       "  </thead>\n",
       "  <tbody>\n",
       "    <tr>\n",
       "      <th>0</th>\n",
       "      <td>158023</td>\n",
       "      <td>L. Messi</td>\n",
       "      <td>Lionel Messi</td>\n",
       "      <td>https://cdn.sofifa.com/players/158/023/21_60.png</td>\n",
       "      <td>http://sofifa.com/player/158023/lionel-messi/2...</td>\n",
       "      <td>Argentina</td>\n",
       "      <td>33</td>\n",
       "      <td>93</td>\n",
       "      <td>93</td>\n",
       "      <td>\\n\\n\\n\\nFC Barcelona</td>\n",
       "      <td>...</td>\n",
       "      <td>Medium</td>\n",
       "      <td>Low</td>\n",
       "      <td>5 ★</td>\n",
       "      <td>85</td>\n",
       "      <td>92</td>\n",
       "      <td>91</td>\n",
       "      <td>95</td>\n",
       "      <td>38</td>\n",
       "      <td>65</td>\n",
       "      <td>771</td>\n",
       "    </tr>\n",
       "    <tr>\n",
       "      <th>1</th>\n",
       "      <td>20801</td>\n",
       "      <td>Cristiano Ronaldo</td>\n",
       "      <td>C. Ronaldo dos Santos Aveiro</td>\n",
       "      <td>https://cdn.sofifa.com/players/020/801/21_60.png</td>\n",
       "      <td>http://sofifa.com/player/20801/c-ronaldo-dos-s...</td>\n",
       "      <td>Portugal</td>\n",
       "      <td>35</td>\n",
       "      <td>92</td>\n",
       "      <td>92</td>\n",
       "      <td>\\n\\n\\n\\nJuventus</td>\n",
       "      <td>...</td>\n",
       "      <td>High</td>\n",
       "      <td>Low</td>\n",
       "      <td>5 ★</td>\n",
       "      <td>89</td>\n",
       "      <td>93</td>\n",
       "      <td>81</td>\n",
       "      <td>89</td>\n",
       "      <td>35</td>\n",
       "      <td>77</td>\n",
       "      <td>562</td>\n",
       "    </tr>\n",
       "    <tr>\n",
       "      <th>2</th>\n",
       "      <td>200389</td>\n",
       "      <td>J. Oblak</td>\n",
       "      <td>Jan Oblak</td>\n",
       "      <td>https://cdn.sofifa.com/players/200/389/21_60.png</td>\n",
       "      <td>http://sofifa.com/player/200389/jan-oblak/210006/</td>\n",
       "      <td>Slovenia</td>\n",
       "      <td>27</td>\n",
       "      <td>91</td>\n",
       "      <td>93</td>\n",
       "      <td>\\n\\n\\n\\nAtlético Madrid</td>\n",
       "      <td>...</td>\n",
       "      <td>Medium</td>\n",
       "      <td>Medium</td>\n",
       "      <td>3 ★</td>\n",
       "      <td>87</td>\n",
       "      <td>92</td>\n",
       "      <td>78</td>\n",
       "      <td>90</td>\n",
       "      <td>52</td>\n",
       "      <td>90</td>\n",
       "      <td>150</td>\n",
       "    </tr>\n",
       "    <tr>\n",
       "      <th>3</th>\n",
       "      <td>192985</td>\n",
       "      <td>K. De Bruyne</td>\n",
       "      <td>Kevin De Bruyne</td>\n",
       "      <td>https://cdn.sofifa.com/players/192/985/21_60.png</td>\n",
       "      <td>http://sofifa.com/player/192985/kevin-de-bruyn...</td>\n",
       "      <td>Belgium</td>\n",
       "      <td>29</td>\n",
       "      <td>91</td>\n",
       "      <td>91</td>\n",
       "      <td>\\n\\n\\n\\nManchester City</td>\n",
       "      <td>...</td>\n",
       "      <td>High</td>\n",
       "      <td>High</td>\n",
       "      <td>4 ★</td>\n",
       "      <td>76</td>\n",
       "      <td>86</td>\n",
       "      <td>93</td>\n",
       "      <td>88</td>\n",
       "      <td>64</td>\n",
       "      <td>78</td>\n",
       "      <td>207</td>\n",
       "    </tr>\n",
       "    <tr>\n",
       "      <th>4</th>\n",
       "      <td>190871</td>\n",
       "      <td>Neymar Jr</td>\n",
       "      <td>Neymar da Silva Santos Jr.</td>\n",
       "      <td>https://cdn.sofifa.com/players/190/871/21_60.png</td>\n",
       "      <td>http://sofifa.com/player/190871/neymar-da-silv...</td>\n",
       "      <td>Brazil</td>\n",
       "      <td>28</td>\n",
       "      <td>91</td>\n",
       "      <td>91</td>\n",
       "      <td>\\n\\n\\n\\nParis Saint-Germain</td>\n",
       "      <td>...</td>\n",
       "      <td>High</td>\n",
       "      <td>Medium</td>\n",
       "      <td>5 ★</td>\n",
       "      <td>91</td>\n",
       "      <td>85</td>\n",
       "      <td>86</td>\n",
       "      <td>94</td>\n",
       "      <td>36</td>\n",
       "      <td>59</td>\n",
       "      <td>595</td>\n",
       "    </tr>\n",
       "  </tbody>\n",
       "</table>\n",
       "<p>5 rows × 77 columns</p>\n",
       "</div>"
      ],
      "text/plain": [
       "       ID               Name                      LongName  \\\n",
       "0  158023           L. Messi                  Lionel Messi   \n",
       "1   20801  Cristiano Ronaldo  C. Ronaldo dos Santos Aveiro   \n",
       "2  200389           J. Oblak                     Jan Oblak   \n",
       "3  192985       K. De Bruyne               Kevin De Bruyne   \n",
       "4  190871          Neymar Jr    Neymar da Silva Santos Jr.   \n",
       "\n",
       "                                           photoUrl  \\\n",
       "0  https://cdn.sofifa.com/players/158/023/21_60.png   \n",
       "1  https://cdn.sofifa.com/players/020/801/21_60.png   \n",
       "2  https://cdn.sofifa.com/players/200/389/21_60.png   \n",
       "3  https://cdn.sofifa.com/players/192/985/21_60.png   \n",
       "4  https://cdn.sofifa.com/players/190/871/21_60.png   \n",
       "\n",
       "                                           playerUrl Nationality  Age  ↓OVA  \\\n",
       "0  http://sofifa.com/player/158023/lionel-messi/2...   Argentina   33    93   \n",
       "1  http://sofifa.com/player/20801/c-ronaldo-dos-s...    Portugal   35    92   \n",
       "2  http://sofifa.com/player/200389/jan-oblak/210006/    Slovenia   27    91   \n",
       "3  http://sofifa.com/player/192985/kevin-de-bruyn...     Belgium   29    91   \n",
       "4  http://sofifa.com/player/190871/neymar-da-silv...      Brazil   28    91   \n",
       "\n",
       "   POT                         Club  ...     A/W     D/W   IR PAC SHO  PAS  \\\n",
       "0   93         \\n\\n\\n\\nFC Barcelona  ...  Medium     Low  5 ★  85  92   91   \n",
       "1   92             \\n\\n\\n\\nJuventus  ...    High     Low  5 ★  89  93   81   \n",
       "2   93      \\n\\n\\n\\nAtlético Madrid  ...  Medium  Medium  3 ★  87  92   78   \n",
       "3   91      \\n\\n\\n\\nManchester City  ...    High    High  4 ★  76  86   93   \n",
       "4   91  \\n\\n\\n\\nParis Saint-Germain  ...    High  Medium  5 ★  91  85   86   \n",
       "\n",
       "  DRI DEF PHY Hits  \n",
       "0  95  38  65  771  \n",
       "1  89  35  77  562  \n",
       "2  90  52  90  150  \n",
       "3  88  64  78  207  \n",
       "4  94  36  59  595  \n",
       "\n",
       "[5 rows x 77 columns]"
      ]
     },
     "execution_count": 2,
     "metadata": {},
     "output_type": "execute_result"
    }
   ],
   "source": [
    "#lectura de datos con panda\n",
    "data = pd.read_csv(\"Datasets/fifa21 raw data v2.csv\")\n",
    "data.head()"
   ]
  },
  {
   "cell_type": "code",
   "execution_count": 18,
   "id": "8ce9ec48",
   "metadata": {},
   "outputs": [
    {
     "ename": "KeyError",
     "evalue": "\"['photoUrl', 'playerUrl'] not found in axis\"",
     "output_type": "error",
     "traceback": [
      "\u001b[1;31m---------------------------------------------------------------------------\u001b[0m",
      "\u001b[1;31mKeyError\u001b[0m                                  Traceback (most recent call last)",
      "\u001b[1;32mc:\\Users\\Haison\\Documents\\GitHub\\Portfolio-data\\Projects Data\\FiFa 21 cleaning data\\Fifa21 Cleaning.ipynb Cell 3\u001b[0m in \u001b[0;36m<cell line: 2>\u001b[1;34m()\u001b[0m\n\u001b[0;32m      <a href='vscode-notebook-cell:/c%3A/Users/Haison/Documents/GitHub/Portfolio-data/Projects%20Data/FiFa%2021%20cleaning%20data/Fifa21%20Cleaning.ipynb#W2sZmlsZQ%3D%3D?line=0'>1</a>\u001b[0m \u001b[39m#limpiar las columna innecesarias\u001b[39;00m\n\u001b[1;32m----> <a href='vscode-notebook-cell:/c%3A/Users/Haison/Documents/GitHub/Portfolio-data/Projects%20Data/FiFa%2021%20cleaning%20data/Fifa21%20Cleaning.ipynb#W2sZmlsZQ%3D%3D?line=1'>2</a>\u001b[0m data\u001b[39m.\u001b[39;49mdrop(columns \u001b[39m=\u001b[39;49m [\u001b[39m'\u001b[39;49m\u001b[39mphotoUrl\u001b[39;49m\u001b[39m'\u001b[39;49m,\u001b[39m'\u001b[39;49m\u001b[39mplayerUrl\u001b[39;49m\u001b[39m'\u001b[39;49m], inplace\u001b[39m=\u001b[39;49m\u001b[39mTrue\u001b[39;49;00m)\n\u001b[0;32m      <a href='vscode-notebook-cell:/c%3A/Users/Haison/Documents/GitHub/Portfolio-data/Projects%20Data/FiFa%2021%20cleaning%20data/Fifa21%20Cleaning.ipynb#W2sZmlsZQ%3D%3D?line=2'>3</a>\u001b[0m data\u001b[39m.\u001b[39mrename(columns\u001b[39m=\u001b[39m{\u001b[39m'\u001b[39m\u001b[39m↓OVA\u001b[39m\u001b[39m'\u001b[39m: \u001b[39m'\u001b[39m\u001b[39mOVA\u001b[39m\u001b[39m'\u001b[39m}, inplace\u001b[39m=\u001b[39m\u001b[39mTrue\u001b[39;00m)\n",
      "File \u001b[1;32mc:\\Users\\Haison\\anaconda3\\lib\\site-packages\\pandas\\util\\_decorators.py:311\u001b[0m, in \u001b[0;36mdeprecate_nonkeyword_arguments.<locals>.decorate.<locals>.wrapper\u001b[1;34m(*args, **kwargs)\u001b[0m\n\u001b[0;32m    305\u001b[0m \u001b[39mif\u001b[39;00m \u001b[39mlen\u001b[39m(args) \u001b[39m>\u001b[39m num_allow_args:\n\u001b[0;32m    306\u001b[0m     warnings\u001b[39m.\u001b[39mwarn(\n\u001b[0;32m    307\u001b[0m         msg\u001b[39m.\u001b[39mformat(arguments\u001b[39m=\u001b[39marguments),\n\u001b[0;32m    308\u001b[0m         \u001b[39mFutureWarning\u001b[39;00m,\n\u001b[0;32m    309\u001b[0m         stacklevel\u001b[39m=\u001b[39mstacklevel,\n\u001b[0;32m    310\u001b[0m     )\n\u001b[1;32m--> 311\u001b[0m \u001b[39mreturn\u001b[39;00m func(\u001b[39m*\u001b[39margs, \u001b[39m*\u001b[39m\u001b[39m*\u001b[39mkwargs)\n",
      "File \u001b[1;32mc:\\Users\\Haison\\anaconda3\\lib\\site-packages\\pandas\\core\\frame.py:4954\u001b[0m, in \u001b[0;36mDataFrame.drop\u001b[1;34m(self, labels, axis, index, columns, level, inplace, errors)\u001b[0m\n\u001b[0;32m   4806\u001b[0m \u001b[39m@deprecate_nonkeyword_arguments\u001b[39m(version\u001b[39m=\u001b[39m\u001b[39mNone\u001b[39;00m, allowed_args\u001b[39m=\u001b[39m[\u001b[39m\"\u001b[39m\u001b[39mself\u001b[39m\u001b[39m\"\u001b[39m, \u001b[39m\"\u001b[39m\u001b[39mlabels\u001b[39m\u001b[39m\"\u001b[39m])\n\u001b[0;32m   4807\u001b[0m \u001b[39mdef\u001b[39;00m \u001b[39mdrop\u001b[39m(\n\u001b[0;32m   4808\u001b[0m     \u001b[39mself\u001b[39m,\n\u001b[1;32m   (...)\u001b[0m\n\u001b[0;32m   4815\u001b[0m     errors: \u001b[39mstr\u001b[39m \u001b[39m=\u001b[39m \u001b[39m\"\u001b[39m\u001b[39mraise\u001b[39m\u001b[39m\"\u001b[39m,\n\u001b[0;32m   4816\u001b[0m ):\n\u001b[0;32m   4817\u001b[0m     \u001b[39m\"\"\"\u001b[39;00m\n\u001b[0;32m   4818\u001b[0m \u001b[39m    Drop specified labels from rows or columns.\u001b[39;00m\n\u001b[0;32m   4819\u001b[0m \n\u001b[1;32m   (...)\u001b[0m\n\u001b[0;32m   4952\u001b[0m \u001b[39m            weight  1.0     0.8\u001b[39;00m\n\u001b[0;32m   4953\u001b[0m \u001b[39m    \"\"\"\u001b[39;00m\n\u001b[1;32m-> 4954\u001b[0m     \u001b[39mreturn\u001b[39;00m \u001b[39msuper\u001b[39;49m()\u001b[39m.\u001b[39;49mdrop(\n\u001b[0;32m   4955\u001b[0m         labels\u001b[39m=\u001b[39;49mlabels,\n\u001b[0;32m   4956\u001b[0m         axis\u001b[39m=\u001b[39;49maxis,\n\u001b[0;32m   4957\u001b[0m         index\u001b[39m=\u001b[39;49mindex,\n\u001b[0;32m   4958\u001b[0m         columns\u001b[39m=\u001b[39;49mcolumns,\n\u001b[0;32m   4959\u001b[0m         level\u001b[39m=\u001b[39;49mlevel,\n\u001b[0;32m   4960\u001b[0m         inplace\u001b[39m=\u001b[39;49minplace,\n\u001b[0;32m   4961\u001b[0m         errors\u001b[39m=\u001b[39;49merrors,\n\u001b[0;32m   4962\u001b[0m     )\n",
      "File \u001b[1;32mc:\\Users\\Haison\\anaconda3\\lib\\site-packages\\pandas\\core\\generic.py:4267\u001b[0m, in \u001b[0;36mNDFrame.drop\u001b[1;34m(self, labels, axis, index, columns, level, inplace, errors)\u001b[0m\n\u001b[0;32m   4265\u001b[0m \u001b[39mfor\u001b[39;00m axis, labels \u001b[39min\u001b[39;00m axes\u001b[39m.\u001b[39mitems():\n\u001b[0;32m   4266\u001b[0m     \u001b[39mif\u001b[39;00m labels \u001b[39mis\u001b[39;00m \u001b[39mnot\u001b[39;00m \u001b[39mNone\u001b[39;00m:\n\u001b[1;32m-> 4267\u001b[0m         obj \u001b[39m=\u001b[39m obj\u001b[39m.\u001b[39;49m_drop_axis(labels, axis, level\u001b[39m=\u001b[39;49mlevel, errors\u001b[39m=\u001b[39;49merrors)\n\u001b[0;32m   4269\u001b[0m \u001b[39mif\u001b[39;00m inplace:\n\u001b[0;32m   4270\u001b[0m     \u001b[39mself\u001b[39m\u001b[39m.\u001b[39m_update_inplace(obj)\n",
      "File \u001b[1;32mc:\\Users\\Haison\\anaconda3\\lib\\site-packages\\pandas\\core\\generic.py:4311\u001b[0m, in \u001b[0;36mNDFrame._drop_axis\u001b[1;34m(self, labels, axis, level, errors, consolidate, only_slice)\u001b[0m\n\u001b[0;32m   4309\u001b[0m         new_axis \u001b[39m=\u001b[39m axis\u001b[39m.\u001b[39mdrop(labels, level\u001b[39m=\u001b[39mlevel, errors\u001b[39m=\u001b[39merrors)\n\u001b[0;32m   4310\u001b[0m     \u001b[39melse\u001b[39;00m:\n\u001b[1;32m-> 4311\u001b[0m         new_axis \u001b[39m=\u001b[39m axis\u001b[39m.\u001b[39;49mdrop(labels, errors\u001b[39m=\u001b[39;49merrors)\n\u001b[0;32m   4312\u001b[0m     indexer \u001b[39m=\u001b[39m axis\u001b[39m.\u001b[39mget_indexer(new_axis)\n\u001b[0;32m   4314\u001b[0m \u001b[39m# Case for non-unique axis\u001b[39;00m\n\u001b[0;32m   4315\u001b[0m \u001b[39melse\u001b[39;00m:\n",
      "File \u001b[1;32mc:\\Users\\Haison\\anaconda3\\lib\\site-packages\\pandas\\core\\indexes\\base.py:6644\u001b[0m, in \u001b[0;36mIndex.drop\u001b[1;34m(self, labels, errors)\u001b[0m\n\u001b[0;32m   6642\u001b[0m \u001b[39mif\u001b[39;00m mask\u001b[39m.\u001b[39many():\n\u001b[0;32m   6643\u001b[0m     \u001b[39mif\u001b[39;00m errors \u001b[39m!=\u001b[39m \u001b[39m\"\u001b[39m\u001b[39mignore\u001b[39m\u001b[39m\"\u001b[39m:\n\u001b[1;32m-> 6644\u001b[0m         \u001b[39mraise\u001b[39;00m \u001b[39mKeyError\u001b[39;00m(\u001b[39mf\u001b[39m\u001b[39m\"\u001b[39m\u001b[39m{\u001b[39;00m\u001b[39mlist\u001b[39m(labels[mask])\u001b[39m}\u001b[39;00m\u001b[39m not found in axis\u001b[39m\u001b[39m\"\u001b[39m)\n\u001b[0;32m   6645\u001b[0m     indexer \u001b[39m=\u001b[39m indexer[\u001b[39m~\u001b[39mmask]\n\u001b[0;32m   6646\u001b[0m \u001b[39mreturn\u001b[39;00m \u001b[39mself\u001b[39m\u001b[39m.\u001b[39mdelete(indexer)\n",
      "\u001b[1;31mKeyError\u001b[0m: \"['photoUrl', 'playerUrl'] not found in axis\""
     ]
    }
   ],
   "source": [
    "#limpiar las columna innecesarias\n",
    "data.drop(columns = ['photoUrl','playerUrl'], inplace=True)\n",
    "data.rename(columns={'↓OVA': 'OVA'}, inplace=True)"
   ]
  },
  {
   "cell_type": "markdown",
   "id": "eca30836",
   "metadata": {},
   "source": [
    "# Exploracion y limpieza del dataset"
   ]
  },
  {
   "cell_type": "code",
   "execution_count": 19,
   "id": "49e6ef4f",
   "metadata": {},
   "outputs": [
    {
     "data": {
      "text/plain": [
       "<bound method DataFrame.info of            ID               Name                      LongName Nationality  \\\n",
       "0      158023           L. Messi                  Lionel Messi   Argentina   \n",
       "1       20801  Cristiano Ronaldo  C. Ronaldo dos Santos Aveiro    Portugal   \n",
       "2      200389           J. Oblak                     Jan Oblak    Slovenia   \n",
       "3      192985       K. De Bruyne               Kevin De Bruyne     Belgium   \n",
       "4      190871          Neymar Jr    Neymar da Silva Santos Jr.      Brazil   \n",
       "...       ...                ...                           ...         ...   \n",
       "18974  247223             Xia Ao                        Ao Xia    China PR   \n",
       "18975  258760           B. Hough                     Ben Hough     England   \n",
       "18976  252757        R. McKinley                Ronan McKinley     England   \n",
       "18977  243790       Wang Zhen'ao                  Zhen'ao Wang    China PR   \n",
       "18978  252520          Zhou Xiao                     Xiao Zhou    China PR   \n",
       "\n",
       "       Age  OVA  POT                         Club     Contract   Positions  \\\n",
       "0       33   93   93         \\n\\n\\n\\nFC Barcelona  2004 ~ 2021  RW, ST, CF   \n",
       "1       35   92   92             \\n\\n\\n\\nJuventus  2018 ~ 2022      ST, LW   \n",
       "2       27   91   93      \\n\\n\\n\\nAtlético Madrid  2014 ~ 2023          GK   \n",
       "3       29   91   91      \\n\\n\\n\\nManchester City  2015 ~ 2023     CAM, CM   \n",
       "4       28   91   91  \\n\\n\\n\\nParis Saint-Germain  2017 ~ 2022     LW, CAM   \n",
       "...    ...  ...  ...                          ...          ...         ...   \n",
       "18974   21   47   55           \\n\\n\\n\\nWuhan Zall  2018 ~ 2022          CB   \n",
       "18975   17   47   67      \\n\\n\\n\\nOldham Athletic  2020 ~ 2021          CM   \n",
       "18976   18   47   65           \\n\\n\\n\\nDerry City  2019 ~ 2020          CM   \n",
       "18977   20   47   57     \\n\\n\\n\\nDalian YiFang FC  2020 ~ 2022          RW   \n",
       "18978   21   47   57     \\n\\n\\n\\nDalian YiFang FC  2019 ~ 2023      CB, LB   \n",
       "\n",
       "       ...     A/W     D/W   IR  PAC SHO PAS DRI DEF PHY Hits  \n",
       "0      ...  Medium     Low  5 ★   85  92  91  95  38  65  771  \n",
       "1      ...    High     Low  5 ★   89  93  81  89  35  77  562  \n",
       "2      ...  Medium  Medium  3 ★   87  92  78  90  52  90  150  \n",
       "3      ...    High    High  4 ★   76  86  93  88  64  78  207  \n",
       "4      ...    High  Medium  5 ★   91  85  86  94  36  59  595  \n",
       "...    ...     ...     ...  ...  ...  ..  ..  ..  ..  ..  ...  \n",
       "18974  ...  Medium  Medium  1 ★   64  28  26  38  48  51  NaN  \n",
       "18975  ...  Medium  Medium  1 ★   64  40  48  49  35  45  NaN  \n",
       "18976  ...  Medium  Medium  1 ★   63  39  44  46  40  53  NaN  \n",
       "18977  ...  Medium  Medium  1 ★   58  49  41  49  30  44  NaN  \n",
       "18978  ...  Medium  Medium  1 ★   62  22  39  42  45  55  NaN  \n",
       "\n",
       "[18979 rows x 75 columns]>"
      ]
     },
     "execution_count": 19,
     "metadata": {},
     "output_type": "execute_result"
    }
   ],
   "source": [
    "#explorar los datos\n",
    "data.info #descripcion de los datos, como el tipo de datos, el tama;o del datasets"
   ]
  },
  {
   "cell_type": "code",
   "execution_count": 20,
   "id": "e23cd363",
   "metadata": {},
   "outputs": [
    {
     "name": "stdout",
     "output_type": "stream",
     "text": [
      "tama;o del datadets (18979, 75)\n"
     ]
    }
   ],
   "source": [
    "print(f\"tama;o del datadets {data.shape}\")"
   ]
  },
  {
   "cell_type": "code",
   "execution_count": 21,
   "id": "747e77b5",
   "metadata": {},
   "outputs": [
    {
     "data": {
      "text/html": [
       "<div>\n",
       "<style scoped>\n",
       "    .dataframe tbody tr th:only-of-type {\n",
       "        vertical-align: middle;\n",
       "    }\n",
       "\n",
       "    .dataframe tbody tr th {\n",
       "        vertical-align: top;\n",
       "    }\n",
       "\n",
       "    .dataframe thead th {\n",
       "        text-align: right;\n",
       "    }\n",
       "</style>\n",
       "<table border=\"1\" class=\"dataframe\">\n",
       "  <thead>\n",
       "    <tr style=\"text-align: right;\">\n",
       "      <th></th>\n",
       "      <th>ID</th>\n",
       "      <th>Name</th>\n",
       "      <th>LongName</th>\n",
       "      <th>Nationality</th>\n",
       "      <th>Age</th>\n",
       "      <th>OVA</th>\n",
       "      <th>POT</th>\n",
       "      <th>Club</th>\n",
       "      <th>Contract</th>\n",
       "      <th>Positions</th>\n",
       "      <th>...</th>\n",
       "      <th>A/W</th>\n",
       "      <th>D/W</th>\n",
       "      <th>IR</th>\n",
       "      <th>PAC</th>\n",
       "      <th>SHO</th>\n",
       "      <th>PAS</th>\n",
       "      <th>DRI</th>\n",
       "      <th>DEF</th>\n",
       "      <th>PHY</th>\n",
       "      <th>Hits</th>\n",
       "    </tr>\n",
       "  </thead>\n",
       "  <tbody>\n",
       "    <tr>\n",
       "      <th>0</th>\n",
       "      <td>158023</td>\n",
       "      <td>L. Messi</td>\n",
       "      <td>Lionel Messi</td>\n",
       "      <td>Argentina</td>\n",
       "      <td>33</td>\n",
       "      <td>93</td>\n",
       "      <td>93</td>\n",
       "      <td>\\n\\n\\n\\nFC Barcelona</td>\n",
       "      <td>2004 ~ 2021</td>\n",
       "      <td>RW, ST, CF</td>\n",
       "      <td>...</td>\n",
       "      <td>Medium</td>\n",
       "      <td>Low</td>\n",
       "      <td>5 ★</td>\n",
       "      <td>85</td>\n",
       "      <td>92</td>\n",
       "      <td>91</td>\n",
       "      <td>95</td>\n",
       "      <td>38</td>\n",
       "      <td>65</td>\n",
       "      <td>771</td>\n",
       "    </tr>\n",
       "    <tr>\n",
       "      <th>1</th>\n",
       "      <td>20801</td>\n",
       "      <td>Cristiano Ronaldo</td>\n",
       "      <td>C. Ronaldo dos Santos Aveiro</td>\n",
       "      <td>Portugal</td>\n",
       "      <td>35</td>\n",
       "      <td>92</td>\n",
       "      <td>92</td>\n",
       "      <td>\\n\\n\\n\\nJuventus</td>\n",
       "      <td>2018 ~ 2022</td>\n",
       "      <td>ST, LW</td>\n",
       "      <td>...</td>\n",
       "      <td>High</td>\n",
       "      <td>Low</td>\n",
       "      <td>5 ★</td>\n",
       "      <td>89</td>\n",
       "      <td>93</td>\n",
       "      <td>81</td>\n",
       "      <td>89</td>\n",
       "      <td>35</td>\n",
       "      <td>77</td>\n",
       "      <td>562</td>\n",
       "    </tr>\n",
       "    <tr>\n",
       "      <th>2</th>\n",
       "      <td>200389</td>\n",
       "      <td>J. Oblak</td>\n",
       "      <td>Jan Oblak</td>\n",
       "      <td>Slovenia</td>\n",
       "      <td>27</td>\n",
       "      <td>91</td>\n",
       "      <td>93</td>\n",
       "      <td>\\n\\n\\n\\nAtlético Madrid</td>\n",
       "      <td>2014 ~ 2023</td>\n",
       "      <td>GK</td>\n",
       "      <td>...</td>\n",
       "      <td>Medium</td>\n",
       "      <td>Medium</td>\n",
       "      <td>3 ★</td>\n",
       "      <td>87</td>\n",
       "      <td>92</td>\n",
       "      <td>78</td>\n",
       "      <td>90</td>\n",
       "      <td>52</td>\n",
       "      <td>90</td>\n",
       "      <td>150</td>\n",
       "    </tr>\n",
       "    <tr>\n",
       "      <th>3</th>\n",
       "      <td>192985</td>\n",
       "      <td>K. De Bruyne</td>\n",
       "      <td>Kevin De Bruyne</td>\n",
       "      <td>Belgium</td>\n",
       "      <td>29</td>\n",
       "      <td>91</td>\n",
       "      <td>91</td>\n",
       "      <td>\\n\\n\\n\\nManchester City</td>\n",
       "      <td>2015 ~ 2023</td>\n",
       "      <td>CAM, CM</td>\n",
       "      <td>...</td>\n",
       "      <td>High</td>\n",
       "      <td>High</td>\n",
       "      <td>4 ★</td>\n",
       "      <td>76</td>\n",
       "      <td>86</td>\n",
       "      <td>93</td>\n",
       "      <td>88</td>\n",
       "      <td>64</td>\n",
       "      <td>78</td>\n",
       "      <td>207</td>\n",
       "    </tr>\n",
       "    <tr>\n",
       "      <th>4</th>\n",
       "      <td>190871</td>\n",
       "      <td>Neymar Jr</td>\n",
       "      <td>Neymar da Silva Santos Jr.</td>\n",
       "      <td>Brazil</td>\n",
       "      <td>28</td>\n",
       "      <td>91</td>\n",
       "      <td>91</td>\n",
       "      <td>\\n\\n\\n\\nParis Saint-Germain</td>\n",
       "      <td>2017 ~ 2022</td>\n",
       "      <td>LW, CAM</td>\n",
       "      <td>...</td>\n",
       "      <td>High</td>\n",
       "      <td>Medium</td>\n",
       "      <td>5 ★</td>\n",
       "      <td>91</td>\n",
       "      <td>85</td>\n",
       "      <td>86</td>\n",
       "      <td>94</td>\n",
       "      <td>36</td>\n",
       "      <td>59</td>\n",
       "      <td>595</td>\n",
       "    </tr>\n",
       "  </tbody>\n",
       "</table>\n",
       "<p>5 rows × 75 columns</p>\n",
       "</div>"
      ],
      "text/plain": [
       "       ID               Name                      LongName Nationality  Age  \\\n",
       "0  158023           L. Messi                  Lionel Messi   Argentina   33   \n",
       "1   20801  Cristiano Ronaldo  C. Ronaldo dos Santos Aveiro    Portugal   35   \n",
       "2  200389           J. Oblak                     Jan Oblak    Slovenia   27   \n",
       "3  192985       K. De Bruyne               Kevin De Bruyne     Belgium   29   \n",
       "4  190871          Neymar Jr    Neymar da Silva Santos Jr.      Brazil   28   \n",
       "\n",
       "   OVA  POT                         Club     Contract   Positions  ...  \\\n",
       "0   93   93         \\n\\n\\n\\nFC Barcelona  2004 ~ 2021  RW, ST, CF  ...   \n",
       "1   92   92             \\n\\n\\n\\nJuventus  2018 ~ 2022      ST, LW  ...   \n",
       "2   91   93      \\n\\n\\n\\nAtlético Madrid  2014 ~ 2023          GK  ...   \n",
       "3   91   91      \\n\\n\\n\\nManchester City  2015 ~ 2023     CAM, CM  ...   \n",
       "4   91   91  \\n\\n\\n\\nParis Saint-Germain  2017 ~ 2022     LW, CAM  ...   \n",
       "\n",
       "      A/W     D/W   IR  PAC SHO PAS DRI DEF PHY Hits  \n",
       "0  Medium     Low  5 ★   85  92  91  95  38  65  771  \n",
       "1    High     Low  5 ★   89  93  81  89  35  77  562  \n",
       "2  Medium  Medium  3 ★   87  92  78  90  52  90  150  \n",
       "3    High    High  4 ★   76  86  93  88  64  78  207  \n",
       "4    High  Medium  5 ★   91  85  86  94  36  59  595  \n",
       "\n",
       "[5 rows x 75 columns]"
      ]
     },
     "execution_count": 21,
     "metadata": {},
     "output_type": "execute_result"
    }
   ],
   "source": [
    "data.head()# imprime las primeras 5 filas del datasets"
   ]
  },
  {
   "cell_type": "code",
   "execution_count": 15,
   "id": "a4ea8ca3",
   "metadata": {},
   "outputs": [
    {
     "data": {
      "text/html": [
       "<div>\n",
       "<style scoped>\n",
       "    .dataframe tbody tr th:only-of-type {\n",
       "        vertical-align: middle;\n",
       "    }\n",
       "\n",
       "    .dataframe tbody tr th {\n",
       "        vertical-align: top;\n",
       "    }\n",
       "\n",
       "    .dataframe thead th {\n",
       "        text-align: right;\n",
       "    }\n",
       "</style>\n",
       "<table border=\"1\" class=\"dataframe\">\n",
       "  <thead>\n",
       "    <tr style=\"text-align: right;\">\n",
       "      <th></th>\n",
       "      <th>ID</th>\n",
       "      <th>Name</th>\n",
       "      <th>LongName</th>\n",
       "      <th>Nationality</th>\n",
       "      <th>Age</th>\n",
       "      <th>OVA</th>\n",
       "      <th>POT</th>\n",
       "      <th>Club</th>\n",
       "      <th>Contract</th>\n",
       "      <th>Positions</th>\n",
       "      <th>...</th>\n",
       "      <th>A/W</th>\n",
       "      <th>D/W</th>\n",
       "      <th>IR</th>\n",
       "      <th>PAC</th>\n",
       "      <th>SHO</th>\n",
       "      <th>PAS</th>\n",
       "      <th>DRI</th>\n",
       "      <th>DEF</th>\n",
       "      <th>PHY</th>\n",
       "      <th>Hits</th>\n",
       "    </tr>\n",
       "  </thead>\n",
       "  <tbody>\n",
       "    <tr>\n",
       "      <th>18974</th>\n",
       "      <td>247223</td>\n",
       "      <td>Xia Ao</td>\n",
       "      <td>Ao Xia</td>\n",
       "      <td>China PR</td>\n",
       "      <td>21</td>\n",
       "      <td>47</td>\n",
       "      <td>55</td>\n",
       "      <td>\\n\\n\\n\\nWuhan Zall</td>\n",
       "      <td>2018 ~ 2022</td>\n",
       "      <td>CB</td>\n",
       "      <td>...</td>\n",
       "      <td>Medium</td>\n",
       "      <td>Medium</td>\n",
       "      <td>1 ★</td>\n",
       "      <td>64</td>\n",
       "      <td>28</td>\n",
       "      <td>26</td>\n",
       "      <td>38</td>\n",
       "      <td>48</td>\n",
       "      <td>51</td>\n",
       "      <td>NaN</td>\n",
       "    </tr>\n",
       "    <tr>\n",
       "      <th>18975</th>\n",
       "      <td>258760</td>\n",
       "      <td>B. Hough</td>\n",
       "      <td>Ben Hough</td>\n",
       "      <td>England</td>\n",
       "      <td>17</td>\n",
       "      <td>47</td>\n",
       "      <td>67</td>\n",
       "      <td>\\n\\n\\n\\nOldham Athletic</td>\n",
       "      <td>2020 ~ 2021</td>\n",
       "      <td>CM</td>\n",
       "      <td>...</td>\n",
       "      <td>Medium</td>\n",
       "      <td>Medium</td>\n",
       "      <td>1 ★</td>\n",
       "      <td>64</td>\n",
       "      <td>40</td>\n",
       "      <td>48</td>\n",
       "      <td>49</td>\n",
       "      <td>35</td>\n",
       "      <td>45</td>\n",
       "      <td>NaN</td>\n",
       "    </tr>\n",
       "    <tr>\n",
       "      <th>18976</th>\n",
       "      <td>252757</td>\n",
       "      <td>R. McKinley</td>\n",
       "      <td>Ronan McKinley</td>\n",
       "      <td>England</td>\n",
       "      <td>18</td>\n",
       "      <td>47</td>\n",
       "      <td>65</td>\n",
       "      <td>\\n\\n\\n\\nDerry City</td>\n",
       "      <td>2019 ~ 2020</td>\n",
       "      <td>CM</td>\n",
       "      <td>...</td>\n",
       "      <td>Medium</td>\n",
       "      <td>Medium</td>\n",
       "      <td>1 ★</td>\n",
       "      <td>63</td>\n",
       "      <td>39</td>\n",
       "      <td>44</td>\n",
       "      <td>46</td>\n",
       "      <td>40</td>\n",
       "      <td>53</td>\n",
       "      <td>NaN</td>\n",
       "    </tr>\n",
       "    <tr>\n",
       "      <th>18977</th>\n",
       "      <td>243790</td>\n",
       "      <td>Wang Zhen'ao</td>\n",
       "      <td>Zhen'ao Wang</td>\n",
       "      <td>China PR</td>\n",
       "      <td>20</td>\n",
       "      <td>47</td>\n",
       "      <td>57</td>\n",
       "      <td>\\n\\n\\n\\nDalian YiFang FC</td>\n",
       "      <td>2020 ~ 2022</td>\n",
       "      <td>RW</td>\n",
       "      <td>...</td>\n",
       "      <td>Medium</td>\n",
       "      <td>Medium</td>\n",
       "      <td>1 ★</td>\n",
       "      <td>58</td>\n",
       "      <td>49</td>\n",
       "      <td>41</td>\n",
       "      <td>49</td>\n",
       "      <td>30</td>\n",
       "      <td>44</td>\n",
       "      <td>NaN</td>\n",
       "    </tr>\n",
       "    <tr>\n",
       "      <th>18978</th>\n",
       "      <td>252520</td>\n",
       "      <td>Zhou Xiao</td>\n",
       "      <td>Xiao Zhou</td>\n",
       "      <td>China PR</td>\n",
       "      <td>21</td>\n",
       "      <td>47</td>\n",
       "      <td>57</td>\n",
       "      <td>\\n\\n\\n\\nDalian YiFang FC</td>\n",
       "      <td>2019 ~ 2023</td>\n",
       "      <td>CB, LB</td>\n",
       "      <td>...</td>\n",
       "      <td>Medium</td>\n",
       "      <td>Medium</td>\n",
       "      <td>1 ★</td>\n",
       "      <td>62</td>\n",
       "      <td>22</td>\n",
       "      <td>39</td>\n",
       "      <td>42</td>\n",
       "      <td>45</td>\n",
       "      <td>55</td>\n",
       "      <td>NaN</td>\n",
       "    </tr>\n",
       "  </tbody>\n",
       "</table>\n",
       "<p>5 rows × 75 columns</p>\n",
       "</div>"
      ],
      "text/plain": [
       "           ID          Name        LongName Nationality  Age  OVA  POT  \\\n",
       "18974  247223        Xia Ao          Ao Xia    China PR   21   47   55   \n",
       "18975  258760      B. Hough       Ben Hough     England   17   47   67   \n",
       "18976  252757   R. McKinley  Ronan McKinley     England   18   47   65   \n",
       "18977  243790  Wang Zhen'ao    Zhen'ao Wang    China PR   20   47   57   \n",
       "18978  252520     Zhou Xiao       Xiao Zhou    China PR   21   47   57   \n",
       "\n",
       "                           Club     Contract Positions  ...     A/W     D/W  \\\n",
       "18974        \\n\\n\\n\\nWuhan Zall  2018 ~ 2022        CB  ...  Medium  Medium   \n",
       "18975   \\n\\n\\n\\nOldham Athletic  2020 ~ 2021        CM  ...  Medium  Medium   \n",
       "18976        \\n\\n\\n\\nDerry City  2019 ~ 2020        CM  ...  Medium  Medium   \n",
       "18977  \\n\\n\\n\\nDalian YiFang FC  2020 ~ 2022        RW  ...  Medium  Medium   \n",
       "18978  \\n\\n\\n\\nDalian YiFang FC  2019 ~ 2023    CB, LB  ...  Medium  Medium   \n",
       "\n",
       "        IR  PAC SHO PAS DRI DEF PHY Hits  \n",
       "18974  1 ★   64  28  26  38  48  51  NaN  \n",
       "18975  1 ★   64  40  48  49  35  45  NaN  \n",
       "18976  1 ★   63  39  44  46  40  53  NaN  \n",
       "18977  1 ★   58  49  41  49  30  44  NaN  \n",
       "18978  1 ★   62  22  39  42  45  55  NaN  \n",
       "\n",
       "[5 rows x 75 columns]"
      ]
     },
     "execution_count": 15,
     "metadata": {},
     "output_type": "execute_result"
    }
   ],
   "source": [
    "data.tail() #imprime las ultimas 5 columnas del datasets"
   ]
  },
  {
   "cell_type": "code",
   "execution_count": 24,
   "id": "58f99b7e",
   "metadata": {},
   "outputs": [
    {
     "data": {
      "text/plain": [
       "array(['170cm', '187cm', '188cm', '181cm', '175cm', '184cm', '191cm',\n",
       "       '178cm', '193cm', '185cm', '199cm', '173cm', '168cm', '176cm',\n",
       "       '177cm', '183cm', '180cm', '189cm', '179cm', '195cm', '172cm',\n",
       "       '182cm', '186cm', '192cm', '165cm', '194cm', '167cm', '196cm',\n",
       "       '163cm', '190cm', '174cm', '169cm', '171cm', '197cm', '200cm',\n",
       "       '166cm', '6\\'2\"', '164cm', '198cm', '6\\'3\"', '6\\'5\"', '5\\'11\"',\n",
       "       '6\\'4\"', '6\\'1\"', '6\\'0\"', '5\\'10\"', '5\\'9\"', '5\\'6\"', '5\\'7\"',\n",
       "       '5\\'4\"', '201cm', '158cm', '162cm', '161cm', '160cm', '203cm',\n",
       "       '157cm', '156cm', '202cm', '159cm', '206cm', '155cm'], dtype=object)"
      ]
     },
     "execution_count": 24,
     "metadata": {},
     "output_type": "execute_result"
    }
   ],
   "source": [
    "data.Height.unique()"
   ]
  },
  {
   "cell_type": "code",
   "execution_count": 30,
   "id": "74e3ab90",
   "metadata": {},
   "outputs": [],
   "source": [
    "def altura_a_instancia(height):\n",
    "    if isinstance(height,str):\n",
    "        if height.find('cm') != -1:\n",
    "            height = height.replace('cm','')\n",
    "            return int(height)\n",
    "        elif height.find(\"'\") != -1:\n",
    "            height = height.split(\"\\'\")\n",
    "            h = int(height[0])*(30.48) + int(height[1].replace('\"', ''))*(2.54)\n",
    "            return int(h)\n",
    "    else:\n",
    "        return height"
   ]
  },
  {
   "cell_type": "code",
   "execution_count": 31,
   "id": "81b7d2a0",
   "metadata": {},
   "outputs": [
    {
     "data": {
      "text/plain": [
       "array([170, 187, 188, 181, 175, 184, 191, 178, 193, 185, 199, 173, 168,\n",
       "       176, 177, 183, 180, 189, 179, 195, 172, 182, 186, 192, 165, 194,\n",
       "       167, 196, 163, 190, 174, 169, 171, 197, 200, 166, 164, 198, 162,\n",
       "       201, 158, 161, 160, 203, 157, 156, 202, 159, 206, 155])"
      ]
     },
     "execution_count": 31,
     "metadata": {},
     "output_type": "execute_result"
    }
   ],
   "source": [
    "data['Height'] = data['Height'].apply(altura_a_instancia).astype(int) # Everything is converted to 'cm', and all text has been removed\n",
    "data['Height'].unique()"
   ]
  },
  {
   "cell_type": "code",
   "execution_count": 34,
   "id": "ed57d3fb",
   "metadata": {},
   "outputs": [
    {
     "data": {
      "text/plain": [
       "array(['72kg', '83kg', '87kg', '70kg', '68kg', '80kg', '71kg', '91kg',\n",
       "       '73kg', '85kg', '92kg', '69kg', '84kg', '96kg', '81kg', '82kg',\n",
       "       '75kg', '86kg', '89kg', '74kg', '76kg', '64kg', '78kg', '90kg',\n",
       "       '66kg', '60kg', '94kg', '79kg', '67kg', '65kg', '59kg', '61kg',\n",
       "       '93kg', '88kg', '97kg', '77kg', '62kg', '63kg', '95kg', '100kg',\n",
       "       '58kg', '183lbs', '179lbs', '172lbs', '196lbs', '176lbs', '185lbs',\n",
       "       '170lbs', '203lbs', '168lbs', '161lbs', '146lbs', '130lbs',\n",
       "       '190lbs', '174lbs', '148lbs', '165lbs', '159lbs', '192lbs',\n",
       "       '181lbs', '139lbs', '154lbs', '157lbs', '163lbs', '98kg', '103kg',\n",
       "       '99kg', '102kg', '56kg', '101kg', '57kg', '55kg', '104kg', '107kg',\n",
       "       '110kg', '53kg', '50kg', '54kg', '52kg'], dtype=object)"
      ]
     },
     "execution_count": 34,
     "metadata": {},
     "output_type": "execute_result"
    }
   ],
   "source": [
    "data['Weight'].unique()"
   ]
  },
  {
   "cell_type": "code",
   "execution_count": 46,
   "id": "2006545e",
   "metadata": {},
   "outputs": [],
   "source": [
    "def peso_a_entero(weight):\n",
    "    if isinstance(weight,str):\n",
    "        if weight.find('kg') != -1:\n",
    "            weight = weight.replace('kg','')\n",
    "            return int(weight)\n",
    "        elif weight.find('lbs') != -1:\n",
    "            weight = weight.replace('lbs','')\n",
    "            weight = int(weight) * 0.453592\n",
    "            return int(weight)\n",
    "    else:\n",
    "        return int(weight)"
   ]
  },
  {
   "cell_type": "code",
   "execution_count": 47,
   "id": "ba06070e",
   "metadata": {},
   "outputs": [
    {
     "data": {
      "text/plain": [
       "array([ 72,  83,  87,  70,  68,  80,  71,  91,  73,  85,  92,  69,  84,\n",
       "        96,  81,  82,  75,  86,  89,  74,  76,  64,  78,  90,  66,  60,\n",
       "        94,  79,  67,  65,  59,  61,  93,  88,  97,  77,  62,  63,  95,\n",
       "       100,  58,  98, 103,  99, 102,  56, 101,  57,  55, 104, 107, 110,\n",
       "        53,  50,  54,  52])"
      ]
     },
     "execution_count": 47,
     "metadata": {},
     "output_type": "execute_result"
    }
   ],
   "source": [
    "data['Weight'] = data['Weight'].apply(peso_a_entero).astype(int) # Weight is converted to 'kg', and all text is deleted\n",
    "data['Weight'].unique()"
   ]
  },
  {
   "cell_type": "code",
   "execution_count": 41,
   "id": "15d7c62c",
   "metadata": {},
   "outputs": [
    {
     "data": {
      "text/plain": [
       "<AxesSubplot:xlabel='Weight', ylabel='Count'>"
      ]
     },
     "execution_count": 41,
     "metadata": {},
     "output_type": "execute_result"
    },
    {
     "data": {
      "image/png": "[encoded data removed]",
      "text/plain": [
       "<Figure size 432x288 with 1 Axes>"
      ]
     },
     "metadata": {
      "needs_background": "light"
     },
     "output_type": "display_data"
    }
   ],
   "source": [
    "sns.histplot(data=data['Weight']) #visualizar los datos de pesos"
   ]
  },
  {
   "cell_type": "code",
   "execution_count": 44,
   "id": "2b8fcbad",
   "metadata": {},
   "outputs": [
    {
     "data": {
      "text/plain": [
       "<AxesSubplot:xlabel='Height', ylabel='Count'>"
      ]
     },
     "execution_count": 44,
     "metadata": {},
     "output_type": "execute_result"
    },
    {
     "data": {
      "image/png": "[encoded data removed]",
      "text/plain": [
       "<Figure size 432x288 with 1 Axes>"
      ]
     },
     "metadata": {
      "needs_background": "light"
     },
     "output_type": "display_data"
    }
   ],
   "source": [
    "sns.histplot(data=data['Height']) #visualizar los datos de las alturas"
   ]
  },
  {
   "cell_type": "code",
   "execution_count": 48,
   "id": "9bf0c251",
   "metadata": {},
   "outputs": [
    {
     "data": {
      "text/plain": [
       "0               \\n\\n\\n\\nFC Barcelona\n",
       "1                   \\n\\n\\n\\nJuventus\n",
       "2            \\n\\n\\n\\nAtlético Madrid\n",
       "3            \\n\\n\\n\\nManchester City\n",
       "4        \\n\\n\\n\\nParis Saint-Germain\n",
       "                    ...             \n",
       "18974             \\n\\n\\n\\nWuhan Zall\n",
       "18975        \\n\\n\\n\\nOldham Athletic\n",
       "18976             \\n\\n\\n\\nDerry City\n",
       "18977       \\n\\n\\n\\nDalian YiFang FC\n",
       "18978       \\n\\n\\n\\nDalian YiFang FC\n",
       "Name: Club, Length: 18979, dtype: object"
      ]
     },
     "execution_count": 48,
     "metadata": {},
     "output_type": "execute_result"
    }
   ],
   "source": [
    "#limpiar la columna club\n",
    "data[\"Club\"]"
   ]
  },
  {
   "cell_type": "code",
   "execution_count": 51,
   "id": "33d46f10",
   "metadata": {},
   "outputs": [],
   "source": [
    "def Club_a_cadena(club):\n",
    "    if club.find(\"\\n\") != -1:\n",
    "        club = club.replace(\"\\n\", \" \") \n",
    "        return club\n",
    "    else:\n",
    "        return club\n",
    "    "
   ]
  },
  {
   "cell_type": "code",
   "execution_count": 53,
   "id": "9dcb892d",
   "metadata": {},
   "outputs": [
    {
     "data": {
      "text/plain": [
       "0               FC Barcelona\n",
       "1                   Juventus\n",
       "2            Atlético Madrid\n",
       "3            Manchester City\n",
       "4        Paris Saint-Germain\n",
       "Name: Club, dtype: object"
      ]
     },
     "execution_count": 53,
     "metadata": {},
     "output_type": "execute_result"
    }
   ],
   "source": [
    "data['Club'] = data['Club'].apply(Club_a_cadena).astype(str)\n",
    "\n",
    "data['Club'].head()"
   ]
  },
  {
   "cell_type": "code",
   "execution_count": 54,
   "id": "84a82960",
   "metadata": {},
   "outputs": [
    {
     "data": {
      "text/plain": [
       "array(['771', '562', '150', '207', '595', '248', '246', '120', '1.6K',\n",
       "       '130', '321', '189', '175', '96', '118', '216', '212', '154',\n",
       "       '205', '202', '339', '408', '103', '332', '86', '173', '161',\n",
       "       '396', '1.1K', '433', '242', '206', '177', '1.5K', '198', '459',\n",
       "       '117', '119', '209', '84', '187', '165', '203', '65', '336', '126',\n",
       "       '313', '124', '145', '538', '182', '101', '45', '377', '99', '194',\n",
       "       '403', '414', '593', '374', '245', '3.2K', '266', '299', '309',\n",
       "       '215', '265', '211', '112', '337', '70', '159', '688', '116', '63',\n",
       "       '144', '123', '71', '224', '113', '168', '61', '89', '137', '278',\n",
       "       '75', '148', '176', '197', '264', '214', '247', '402', '440',\n",
       "       '1.7K', '2.3K', '171', '320', '657', '87', '259', '200', '255',\n",
       "       '253', '196', '60', '97', '85', '169', '256', '132', '239', '166',\n",
       "       '121', '109', '32', '46', '122', '48', '527', '199', '282', '51',\n",
       "       '1.9K', '642', '155', '323', '288', '497', '509', '79', '49',\n",
       "       '270', '511', '80', '128', '115', '156', '204', '143', '140',\n",
       "       '152', '220', '134', '225', '94', '74', '135', '142', '50', '77',\n",
       "       '40', '107', '193', '179', '34', '64', '453', '57', '81', '28',\n",
       "       '78', '133', '43', '425', '88', '42', '36', '233', '376', '210',\n",
       "       '444', '100', '263', '98', '29', '160', '39', '257', '6', '310',\n",
       "       '138', '62', '293', '285', '362', '66', '69', '58', '21', '20',\n",
       "       '131', '38', '406', '68', '108', '110', '93', '512', '443', '306',\n",
       "       '352', '422', '585', '346', '178', '841', '76', '394', '72', '172',\n",
       "       '44', '407', '230', '367', '295', '157', '243', '56', '111', '326',\n",
       "       '679', '18', '92', '59', '25', '184', '53', '12', '90', '55', '73',\n",
       "       '11', '566', '180', '83', '262', '17', '26', '31', '280', '359',\n",
       "       '213', '297', '387', '480', '381', '677', '486', '8', '244', '129',\n",
       "       '388', '275', '319', '2K', '52', '91', '421', '153', '27', '41',\n",
       "       '222', '35', '102', '23', '30', '33', '146', '13', '19', '14',\n",
       "       '106', '276', '568', '353', '47', '478', '249', '254', '369',\n",
       "       '219', '565', '237', '227', '434', '375', '162', '605', '654', '3',\n",
       "       '7', '9', '104', '114', '186', '446', '756', '22', '139', '500',\n",
       "       '67', '147', '149', '16', '82', '54', '37', '15', '1.3K', '3K',\n",
       "       '952', '5', '749', '541', '330', '393', '517', '770', '409', '170',\n",
       "       '125', '283', '342', '363', '580', '105', '217', '24', '141', '10',\n",
       "       '427', '158', '426', '4', '666', '181', '324', '979', '1.4K',\n",
       "       '302', '751', '298', '411', '944', '2', '947', '292', '349', '621',\n",
       "       '1', '2.8K', '338', '287', '261', '218', '1.8K', '240', '279',\n",
       "       '229', '188', '315', '664', '613', '190', '706', '127', '462',\n",
       "       '386', '695', '491', '167', '281', '250', '307', '95', '231',\n",
       "       '174', '680', '633', '221', '348', '602', '183', '653', '195',\n",
       "       '164', '151', '258', '8.4K', '343', '419', '655', '136', '399',\n",
       "       '531', '357', '228', '385', '312', '340', '238', '487', '355',\n",
       "       '499', '4.3K', '296', '515', '943', '1.2K', '903', '335', '191',\n",
       "       '594', '267', '617', '516', '504', '331', '652', '410', '550',\n",
       "       '473', '442', '344', '208', '1K', '2.5K', '273', '485', '826',\n",
       "       '192', '405', '941', '477', '644', '303', '417', '6K', nan, 11.0,\n",
       "       2.0, 1.0, 31.0, 3.0, 10.0, 9.0, 17.0, 7.0, 4.0, 6.0], dtype=object)"
      ]
     },
     "execution_count": 54,
     "metadata": {},
     "output_type": "execute_result"
    }
   ],
   "source": [
    "data[\"Hits\"].unique()"
   ]
  },
  {
   "cell_type": "code",
   "execution_count": 58,
   "id": "54cdc077",
   "metadata": {},
   "outputs": [],
   "source": [
    "def clean_hits(hits):\n",
    "    if isinstance(hits,str):\n",
    "        if hits.find(\"K\") != -1:\n",
    "            hits = hits.replace(\"K\",\" \")\n",
    "            return int(float(hits)*1000)\n",
    "        else:\n",
    "            return int(hits)\n",
    "    else:\n",
    "        return hits\n",
    "    "
   ]
  },
  {
   "cell_type": "code",
   "execution_count": 60,
   "id": "cf129f08",
   "metadata": {},
   "outputs": [
    {
     "data": {
      "text/plain": [
       "0    771\n",
       "1    562\n",
       "2    150\n",
       "3    207\n",
       "4    595\n",
       "Name: Hits, dtype: int32"
      ]
     },
     "execution_count": 60,
     "metadata": {},
     "output_type": "execute_result"
    }
   ],
   "source": [
    "data['Hits'] = data['Hits'].apply(clean_hits).fillna(0).astype(int)\n",
    "\n",
    "data['Hits'].head()"
   ]
  }
 ],
 "metadata": {
  "kernelspec": {
   "display_name": "Python 3 (ipykernel)",
   "language": "python",
   "name": "python3"
  },
  "language_info": {
   "codemirror_mode": {
    "name": "ipython",
    "version": 3
   },
   "file_extension": ".py",
   "mimetype": "text/x-python",
   "name": "python",
   "nbconvert_exporter": "python",
   "pygments_lexer": "ipython3",
   "version": "3.9.12"
  }
 },
 "nbformat": 4,
 "nbformat_minor": 5
}
